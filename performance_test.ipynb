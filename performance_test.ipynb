{
 "cells": [
  {
   "cell_type": "code",
   "execution_count": null,
   "metadata": {},
   "outputs": [
    {
     "name": "stdout",
     "output_type": "stream",
     "text": [
      "Recursive: 7.351031 sec\n",
      "DP: 0.035177 sec\n",
      "Optimized DP: 0.031729 sec\n"
     ]
    }
   ],
   "source": [
    "import timeit\n",
    "from levenshtein import levenshtein_recursive, levenshtein_dp, levenshtein_dp_optimized\n",
    "\n",
    "s1 = \"sitting\"\n",
    "s2 = \"kitten\"\n",
    "\n",
    "# Wrapper functions for timeit\n",
    "def test_recursive():\n",
    "    return levenshtein_recursive(s1, s2)\n",
    "\n",
    "def test_dp():\n",
    "    return levenshtein_dp(s1, s2)\n",
    "\n",
    "def test_optimized():\n",
    "    return levenshtein_dp_optimized(s1, s2)\n",
    "\n",
    "# Measure execution time\n",
    "time_recursive = timeit.timeit(test_recursive, number=1000)\n",
    "time_dp = timeit.timeit(test_dp, number=1000)\n",
    "time_optimized = timeit.timeit(test_optimized, number=1000)\n",
    "\n",
    "# Print results\n",
    "print(f\"Recursive: {time_recursive:.6f} sec\")\n",
    "print(f\"DP: {time_dp:.6f} sec\")\n",
    "print(f\"Optimized DP: {time_optimized:.6f} sec\")\n"
   ]
  }
 ],
 "metadata": {
  "kernelspec": {
   "display_name": "Python 3",
   "language": "python",
   "name": "python3"
  },
  "language_info": {
   "codemirror_mode": {
    "name": "ipython",
    "version": 3
   },
   "file_extension": ".py",
   "mimetype": "text/x-python",
   "name": "python",
   "nbconvert_exporter": "python",
   "pygments_lexer": "ipython3",
   "version": "3.10.4"
  }
 },
 "nbformat": 4,
 "nbformat_minor": 2
}
