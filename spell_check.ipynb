{
 "cells": [
  {
   "cell_type": "code",
   "execution_count": 1,
   "metadata": {},
   "outputs": [],
   "source": [
    "from string_comparison import damerau_levenshtein_dp_optimized"
   ]
  },
  {
   "cell_type": "code",
   "execution_count": null,
   "metadata": {},
   "outputs": [
    {
     "name": "stdout",
     "output_type": "stream",
     "text": [
      "apple: 3\n",
      "pear: 5\n",
      "grape: 4\n",
      "google: 5\n"
     ]
    },
    {
     "data": {
      "text/plain": [
       "(3, 'apple')"
      ]
     },
     "execution_count": 2,
     "metadata": {},
     "output_type": "execute_result"
    }
   ],
   "source": [
    "dictionary = ['apple', 'pear', 'grape', 'google']\n",
    "\n",
    "string = 'gappeel'\n",
    "\n",
    "corrected = ''\n",
    "best_score = 99\n",
    "for word in dictionary:\n",
    "    distance = damerau_levenshtein_dp_optimized(word, string)\n",
    "    print(f'{word}: {distance}')\n",
    "    \n",
    "    if distance < best_score:\n",
    "        corrected = word\n",
    "        best_score = distance\n",
    "\n",
    "\n",
    "best_score, corrected"
   ]
  },
  {
   "cell_type": "code",
   "execution_count": 3,
   "metadata": {},
   "outputs": [],
   "source": [
    "s1 = 'MARTHA'\n",
    "s2 = 'MARHTA'"
   ]
  },
  {
   "cell_type": "code",
   "execution_count": null,
   "metadata": {},
   "outputs": [
    {
     "data": {
      "text/plain": [
       "0.9444444444444445"
      ]
     },
     "execution_count": 4,
     "metadata": {},
     "output_type": "execute_result"
    }
   ],
   "source": [
    "from string_comparison import jaro_similarity\n",
    "\n",
    "jaro_sim = jaro_similarity(s1, s2)\n",
    "jaro_sim"
   ]
  },
  {
   "cell_type": "code",
   "execution_count": null,
   "metadata": {},
   "outputs": [
    {
     "data": {
      "text/plain": [
       "0.9611111111111111"
      ]
     },
     "execution_count": 5,
     "metadata": {},
     "output_type": "execute_result"
    }
   ],
   "source": [
    "from string_comparison import jaro_winkler_similarity\n",
    "\n",
    "jw = jaro_winkler_similarity(s1, s2)\n",
    "jw"
   ]
  },
  {
   "cell_type": "code",
   "execution_count": 6,
   "metadata": {},
   "outputs": [
    {
     "data": {
      "text/plain": [
       "3"
      ]
     },
     "execution_count": 6,
     "metadata": {},
     "output_type": "execute_result"
    }
   ],
   "source": [
    "from string_comparison import hamming_distance\n",
    "\n",
    "hamming = hamming_distance('karolin', 'kathrin')\n",
    "hamming"
   ]
  },
  {
   "cell_type": "code",
   "execution_count": 7,
   "metadata": {},
   "outputs": [
    {
     "data": {
      "text/plain": [
       "9"
      ]
     },
     "execution_count": 7,
     "metadata": {},
     "output_type": "execute_result"
    }
   ],
   "source": [
    "from string_comparison import hamming_distance_binary\n",
    "\n",
    "hamming_binary = hamming_distance_binary('karolin', 'kathrin')\n",
    "hamming_binary"
   ]
  }
 ],
 "metadata": {
  "kernelspec": {
   "display_name": "Python 3",
   "language": "python",
   "name": "python3"
  },
  "language_info": {
   "codemirror_mode": {
    "name": "ipython",
    "version": 3
   },
   "file_extension": ".py",
   "mimetype": "text/x-python",
   "name": "python",
   "nbconvert_exporter": "python",
   "pygments_lexer": "ipython3",
   "version": "3.10.4"
  }
 },
 "nbformat": 4,
 "nbformat_minor": 2
}
